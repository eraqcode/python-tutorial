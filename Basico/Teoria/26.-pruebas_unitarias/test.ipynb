{
 "cells": [
  {
   "cell_type": "markdown",
   "metadata": {
    "id": "XrI2lLmM8Irv"
   },
   "source": [
    "# **Unit Testing**"
   ]
  },
  {
   "cell_type": "markdown",
   "metadata": {
    "id": "hczuvVrn8V4P"
   },
   "source": [
    "The unit testing in a programmin language consist in proof each part o module of te written code.\n",
    "\n",
    "In Python we have some libraries to do this like , unittest, doctest, ect, but today we are going to use **unittest**"
   ]
  },
  {
   "cell_type": "markdown",
   "metadata": {
    "id": "8DK7ZW8s8qqD"
   },
   "source": [
    "- ## **unittest Methods**\n",
    "\n",
    "|  Method                     |  Proof that \n",
    "|-----------------------------|--------------\n",
    "| assertEqual(a,b)            |  a == b\n",
    "| assertNoEqual(a, b)         |  a != b\n",
    "| assertTrue(x)               |  bool(x) is True\n",
    "| assertFalse(x)              |  bool(x) us False\n",
    "| assertIs(a, b)              |  a is b\n",
    "| assertIsNot(a,b)            |  a is not b\n",
    "| assertIsNone(x)             |  x is None\n",
    "| asserIsNotNone              |  x is not None\n",
    "| assertIn(a, b)              |  a in b\n",
    "| assertNotIn(a, b)           |  a ot in b\n",
    "| assertIsInstance(a, b)      |  isinstance(a, b)\n",
    "| assertNotIsInstance(a, b)   |  not isinstance(a, b)\n",
    "\n"
   ]
  },
  {
   "cell_type": "code",
   "execution_count": 4,
   "metadata": {
    "executionInfo": {
     "elapsed": 501,
     "status": "ok",
     "timestamp": 1618263374668,
     "user": {
      "displayName": "Erik Carcelén",
      "photoUrl": "",
      "userId": "05942083229617844169"
     },
     "user_tz": 300
    },
    "id": "PqB6Xq7zAaOY"
   },
   "outputs": [],
   "source": [
    "import unittest"
   ]
  },
  {
   "cell_type": "code",
   "execution_count": 5,
   "metadata": {
    "executionInfo": {
     "elapsed": 379,
     "status": "ok",
     "timestamp": 1618263384609,
     "user": {
      "displayName": "Erik Carcelén",
      "photoUrl": "",
      "userId": "05942083229617844169"
     },
     "user_tz": 300
    },
    "id": "dNFUHM2LAzVT"
   },
   "outputs": [],
   "source": [
    "import calc"
   ]
  },
  {
   "cell_type": "code",
   "execution_count": 14,
   "metadata": {
    "colab": {
     "base_uri": "https://localhost:8080/"
    },
    "executionInfo": {
     "elapsed": 594,
     "status": "ok",
     "timestamp": 1618265021105,
     "user": {
      "displayName": "Erik Carcelén",
      "photoUrl": "",
      "userId": "05942083229617844169"
     },
     "user_tz": 300
    },
    "id": "nPx9H_4iA6AM",
    "outputId": "c7e1b3cd-edea-49f6-951c-d9d304d3aaad"
   },
   "outputs": [
    {
     "name": "stderr",
     "output_type": "stream",
     "text": [
      "test_add (__main__.TestCalc) ... FAIL\n",
      "test_divide (__main__.TestCalc) ... ok\n",
      "test_multiply (__main__.TestCalc) ... ok\n",
      "test_substract (__main__.TestCalc) ... ok\n",
      "\n",
      "======================================================================\n",
      "FAIL: test_add (__main__.TestCalc)\n",
      "----------------------------------------------------------------------\n",
      "Traceback (most recent call last):\n",
      "  File \"<ipython-input-14-9be1554c0fb5>\", line 8, in test_add\n",
      "    self.assertEqual( calc.get_add(2, 3), 6 )\n",
      "AssertionError: 5 != 6\n",
      "\n",
      "----------------------------------------------------------------------\n",
      "Ran 4 tests in 0.011s\n",
      "\n",
      "FAILED (failures=1)\n"
     ]
    },
    {
     "data": {
      "text/plain": [
       "<unittest.main.TestProgram at 0x7fc2eb251610>"
      ]
     },
     "execution_count": 14,
     "metadata": {
      "tags": []
     },
     "output_type": "execute_result"
    }
   ],
   "source": [
    "class TestCalc( unittest.TestCase ):\n",
    "\n",
    "    def test_add(self):\n",
    "\n",
    "        addition_result = calc.get_add(12, 4)\n",
    "\n",
    "        self.assertEqual( addition_result, 16 )\n",
    "        self.assertEqual( calc.get_add(2, 3), 6 )\n",
    "\n",
    "    def test_substract(self):\n",
    "\n",
    "        self.assertEqual( calc.get_substract(12, 45), -33 )\n",
    "\n",
    "    def test_multiply(self):\n",
    "\n",
    "        self.assertEqual( calc.get_multiply(3, 5), 15 )\n",
    "\n",
    "    def test_divide(self):\n",
    "\n",
    "        self.assertEqual( calc.get_divide(24, 4), 6 )\n",
    "\n",
    "unittest.main(argv=[''], verbosity=2, exit=False)"
   ]
  },
  {
   "cell_type": "code",
   "execution_count": 14,
   "metadata": {
    "executionInfo": {
     "elapsed": 592,
     "status": "ok",
     "timestamp": 1618265073285,
     "user": {
      "displayName": "Erik Carcelén",
      "photoUrl": "",
      "userId": "05942083229617844169"
     },
     "user_tz": 300
    },
    "id": "y3Zmv--kCR1q"
   },
   "outputs": [],
   "source": []
  },
  {
   "cell_type": "code",
   "execution_count": null,
   "metadata": {
    "id": "bNOm88ZED1uv"
   },
   "outputs": [],
   "source": []
  }
 ],
 "metadata": {
  "colab": {
   "authorship_tag": "ABX9TyMUEX9g2VMrCKbguZGEHrMt",
   "collapsed_sections": [],
   "mount_file_id": "1h9noCb-Mi-yfqezot0nIeL9AId_wR4Sw",
   "name": "test.ipynb",
   "provenance": [],
   "toc_visible": true
  },
  "kernelspec": {
   "display_name": "Python 3 (ipykernel)",
   "language": "python",
   "name": "python3"
  },
  "language_info": {
   "codemirror_mode": {
    "name": "ipython",
    "version": 3
   },
   "file_extension": ".py",
   "mimetype": "text/x-python",
   "name": "python",
   "nbconvert_exporter": "python",
   "pygments_lexer": "ipython3",
   "version": "3.8.0"
  }
 },
 "nbformat": 4,
 "nbformat_minor": 4
}
